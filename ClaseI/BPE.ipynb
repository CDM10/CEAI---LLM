{
 "cells": [
  {
   "cell_type": "markdown",
   "metadata": {},
   "source": [
    "# Implementacion demostrativa de BPE"
   ]
  },
  {
   "cell_type": "code",
   "execution_count": 35,
   "metadata": {},
   "outputs": [],
   "source": [
    "import re\n",
    "from collections import defaultdict, Counter"
   ]
  },
  {
   "cell_type": "code",
   "execution_count": 40,
   "metadata": {},
   "outputs": [],
   "source": [
    "class BPE:\n",
    "\n",
    "    def __init__(self):\n",
    "        self.vocab : Counter= {}\n",
    "        self.bpe_merges :list = []\n",
    "        self.token_to_id : dict = {}\n",
    "        self.id_to_token : dict = {}\n",
    "\n",
    "    def get_vocab(self, corpus: list[str]):\n",
    "        \"\"\"\n",
    "        Build the initial vocabulary from the input corpus.\n",
    "        Each word in the corpus is split into characters.\n",
    "        \"\"\"\n",
    "        vocab = Counter()\n",
    "        for word in corpus:\n",
    "            word = ' '.join(list(word)) + ' </w>' # end of word token\n",
    "            vocab[word] += 1\n",
    "        return vocab\n",
    "\n",
    "    def get_stats(self, vocab):\n",
    "        \"\"\"\n",
    "        Compute the frequency of character pairs in the vocabulary.\n",
    "        \"\"\"\n",
    "        pairs = defaultdict(int)\n",
    "        for word, freq in vocab.items():\n",
    "            symbols = word.split()\n",
    "            for i in range(len(symbols) - 1):\n",
    "                pairs[(symbols[i], symbols[i + 1])] += freq\n",
    "        return pairs\n",
    "\n",
    "    def merge_vocab(self, pair, vocab):\n",
    "        \"\"\"\n",
    "        Merge the most frequent character pair in the vocabulary.\n",
    "        \"\"\"\n",
    "        bigram = re.escape(' '.join(pair))\n",
    "        p = re.compile(r'(?<!\\S)' + bigram + r'(?!\\S)')\n",
    "        new_vocab = {}\n",
    "        for word in vocab:\n",
    "            new_word = p.sub(''.join(pair), word)\n",
    "            new_vocab[new_word] = vocab[word]\n",
    "        return new_vocab\n",
    "\n",
    "    def learn_bpe(self, corpus :list , num_merges=10):\n",
    "        \"\"\"\n",
    "        Learn the BPE merges by iteratively finding the most frequent character pairs.\n",
    "        \"\"\"\n",
    "        vocab = self.get_vocab(corpus)\n",
    "        for _ in range(num_merges):\n",
    "            pairs = self.get_stats(vocab)\n",
    "            if not pairs:\n",
    "                break\n",
    "            best_pair = max(pairs, key=pairs.get)\n",
    "            vocab = self.merge_vocab(best_pair, vocab)\n",
    "            self.bpe_merges.append(best_pair)\n",
    "        \n",
    "        # Build token_to_id and id_to_token dictionaries\n",
    "        self.build_token_mappings(vocab)\n",
    "\n",
    "    def build_token_mappings(self, vocab):\n",
    "        \"\"\"\n",
    "        Build token-to-ID and ID-to-token mappings.\n",
    "        \"\"\"\n",
    "        tokens = sorted(set(token for word in vocab for token in word.split()))\n",
    "        for idx, token in enumerate(tokens):\n",
    "            self.token_to_id[token] = idx\n",
    "            self.id_to_token[idx] = token\n",
    "\n",
    "    def apply_bpe(self, word):\n",
    "        \"\"\"\n",
    "        Apply the learned BPE merges to a new word.\n",
    "        \"\"\"\n",
    "        word = ' '.join(list(word)) + ' </w>'\n",
    "        word = word.split()\n",
    "\n",
    "        for merge in self.bpe_merges:\n",
    "            while True:\n",
    "                pair_indices = [(i, i + 1) for i in range(len(word) - 1) if (word[i], word[i + 1]) == merge]\n",
    "                if not pair_indices:\n",
    "                    break\n",
    "                for i, j in pair_indices:\n",
    "                    word[i:i + 2] = [''.join(merge)]\n",
    "        return word\n",
    "\n",
    "    def encode(self, text):\n",
    "        \"\"\"\n",
    "        Encode the text using the learned BPE merges and return token IDs.\n",
    "        \"\"\"\n",
    "        bpe_tokens = self.apply_bpe(text)\n",
    "        token_ids = [self.token_to_id[token] for token in bpe_tokens]\n",
    "        return bpe_tokens, token_ids\n",
    "\n",
    "    def decode(self, token_ids):\n",
    "        \"\"\"\n",
    "        Decode token IDs back into text by using the id_to_token mapping.\n",
    "        \"\"\"\n",
    "        # Get the tokens from token IDs\n",
    "        tokens = [self.id_to_token[token_id] for token_id in token_ids]\n",
    "        \n",
    "        # Join tokens to form the final word\n",
    "        # Remove the `</w>` which signifies the end of the word\n",
    "        text = ''.join(tokens).replace('</w>', '')\n",
    "        return text\n",
    "\n"
   ]
  },
  {
   "cell_type": "markdown",
   "metadata": {},
   "source": [
    "# Ejemplo"
   ]
  },
  {
   "cell_type": "code",
   "execution_count": 41,
   "metadata": {},
   "outputs": [
    {
     "name": "stdout",
     "output_type": "stream",
     "text": [
      "BPE Merges: [('l', 'o'), ('lo', 'w'), ('e', 'r'), ('er', '</w>'), ('low', '</w>'), ('low', 'e'), ('lowe', 's'), ('lowes', 't'), ('lowest', '</w>'), ('n', 'e')]\n",
      "Word: low\n",
      "Tokens: ['low</w>']\n",
      "Token IDs: [3]\n"
     ]
    }
   ],
   "source": [
    "# Sample corpus\n",
    "corpus = [\"low\", \"lowest\", \"newer\", \"wider\"]\n",
    "\n",
    "# Initialize and learn BPE merges\n",
    "bpe = BPE()\n",
    "bpe.learn_bpe(corpus, num_merges=10)\n",
    "\n",
    "# Print the learned BPE merges\n",
    "print(\"BPE Merges:\", bpe.bpe_merges)\n",
    "\n",
    "# Tokenize a new word\n",
    "word = \"low\"\n",
    "tokens, token_ids = bpe.encode(word)\n",
    "\n",
    "print(f\"Word: {word}\")\n",
    "print(f\"Tokens: {tokens}\")\n",
    "print(f\"Token IDs: {token_ids}\")\n"
   ]
  },
  {
   "cell_type": "code",
   "execution_count": 42,
   "metadata": {},
   "outputs": [
    {
     "data": {
      "text/plain": [
       "'low'"
      ]
     },
     "execution_count": 42,
     "metadata": {},
     "output_type": "execute_result"
    }
   ],
   "source": [
    "bpe.decode(token_ids)"
   ]
  },
  {
   "cell_type": "code",
   "execution_count": null,
   "metadata": {},
   "outputs": [],
   "source": []
  }
 ],
 "metadata": {
  "kernelspec": {
   "display_name": "venv",
   "language": "python",
   "name": "python3"
  },
  "language_info": {
   "codemirror_mode": {
    "name": "ipython",
    "version": 3
   },
   "file_extension": ".py",
   "mimetype": "text/x-python",
   "name": "python",
   "nbconvert_exporter": "python",
   "pygments_lexer": "ipython3",
   "version": "3.11.9"
  }
 },
 "nbformat": 4,
 "nbformat_minor": 2
}
