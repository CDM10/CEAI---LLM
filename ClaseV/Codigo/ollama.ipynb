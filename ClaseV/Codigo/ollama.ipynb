{
 "cells": [
  {
   "cell_type": "markdown",
   "metadata": {},
   "source": [
    "# Class 5 (Local Inference)\n",
    "\n",
    "**Author: Abraham R.**\n",
    "\n",
    "The following notebook is an example of using a local API in this case Ollama.\n",
    "\n",
    "### Experimental integration\n",
    "\n",
    "Ollama's OpenAI API format is Experimental, for more info check this [readme](https://github.com/ollama/ollama/blob/main/docs/openai.md)\n",
    "\n"
   ]
  },
  {
   "cell_type": "markdown",
   "metadata": {},
   "source": [
    "# Example using OpenAI's client"
   ]
  },
  {
   "cell_type": "code",
   "execution_count": 1,
   "metadata": {},
   "outputs": [
    {
     "name": "stdout",
     "output_type": "stream",
     "text": [
      "Requirement already satisfied: openai in /Users/rodz/Documents/projects/transformers/llm/venv/lib/python3.11/site-packages (1.54.4)\n",
      "Requirement already satisfied: anyio<5,>=3.5.0 in /Users/rodz/Documents/projects/transformers/llm/venv/lib/python3.11/site-packages (from openai) (4.6.2.post1)\n",
      "Requirement already satisfied: distro<2,>=1.7.0 in /Users/rodz/Documents/projects/transformers/llm/venv/lib/python3.11/site-packages (from openai) (1.9.0)\n",
      "Requirement already satisfied: httpx<1,>=0.23.0 in /Users/rodz/Documents/projects/transformers/llm/venv/lib/python3.11/site-packages (from openai) (0.27.2)\n",
      "Requirement already satisfied: jiter<1,>=0.4.0 in /Users/rodz/Documents/projects/transformers/llm/venv/lib/python3.11/site-packages (from openai) (0.7.1)\n",
      "Requirement already satisfied: pydantic<3,>=1.9.0 in /Users/rodz/Documents/projects/transformers/llm/venv/lib/python3.11/site-packages (from openai) (2.9.2)\n",
      "Requirement already satisfied: sniffio in /Users/rodz/Documents/projects/transformers/llm/venv/lib/python3.11/site-packages (from openai) (1.3.1)\n",
      "Requirement already satisfied: tqdm>4 in /Users/rodz/Documents/projects/transformers/llm/venv/lib/python3.11/site-packages (from openai) (4.67.0)\n",
      "Requirement already satisfied: typing-extensions<5,>=4.11 in /Users/rodz/Documents/projects/transformers/llm/venv/lib/python3.11/site-packages (from openai) (4.12.2)\n",
      "Requirement already satisfied: idna>=2.8 in /Users/rodz/Documents/projects/transformers/llm/venv/lib/python3.11/site-packages (from anyio<5,>=3.5.0->openai) (3.10)\n",
      "Requirement already satisfied: certifi in /Users/rodz/Documents/projects/transformers/llm/venv/lib/python3.11/site-packages (from httpx<1,>=0.23.0->openai) (2024.8.30)\n",
      "Requirement already satisfied: httpcore==1.* in /Users/rodz/Documents/projects/transformers/llm/venv/lib/python3.11/site-packages (from httpx<1,>=0.23.0->openai) (1.0.7)\n",
      "Requirement already satisfied: h11<0.15,>=0.13 in /Users/rodz/Documents/projects/transformers/llm/venv/lib/python3.11/site-packages (from httpcore==1.*->httpx<1,>=0.23.0->openai) (0.14.0)\n",
      "Requirement already satisfied: annotated-types>=0.6.0 in /Users/rodz/Documents/projects/transformers/llm/venv/lib/python3.11/site-packages (from pydantic<3,>=1.9.0->openai) (0.7.0)\n",
      "Requirement already satisfied: pydantic-core==2.23.4 in /Users/rodz/Documents/projects/transformers/llm/venv/lib/python3.11/site-packages (from pydantic<3,>=1.9.0->openai) (2.23.4)\n",
      "\n",
      "\u001b[1m[\u001b[0m\u001b[34;49mnotice\u001b[0m\u001b[1;39;49m]\u001b[0m\u001b[39;49m A new release of pip is available: \u001b[0m\u001b[31;49m24.2\u001b[0m\u001b[39;49m -> \u001b[0m\u001b[32;49m24.3.1\u001b[0m\n",
      "\u001b[1m[\u001b[0m\u001b[34;49mnotice\u001b[0m\u001b[1;39;49m]\u001b[0m\u001b[39;49m To update, run: \u001b[0m\u001b[32;49mpip install --upgrade pip\u001b[0m\n",
      "Note: you may need to restart the kernel to use updated packages.\n"
     ]
    }
   ],
   "source": [
    "pip install openai"
   ]
  },
  {
   "cell_type": "code",
   "execution_count": 1,
   "metadata": {},
   "outputs": [],
   "source": [
    "import openai\n",
    "from settings import Config"
   ]
  },
  {
   "cell_type": "markdown",
   "metadata": {},
   "source": [
    "## Reading config"
   ]
  },
  {
   "cell_type": "code",
   "execution_count": 3,
   "metadata": {},
   "outputs": [],
   "source": [
    "config = Config.from_yaml(filepath=\"../settings.yml\")"
   ]
  },
  {
   "cell_type": "code",
   "execution_count": 4,
   "metadata": {},
   "outputs": [],
   "source": [
    "client = openai.OpenAI(\n",
    "  base_url=config.ollama.url,\n",
    "  api_key= \"apiKey\"\n",
    ")"
   ]
  },
  {
   "cell_type": "markdown",
   "metadata": {},
   "source": [
    "# Conversation history caching with Redis"
   ]
  },
  {
   "cell_type": "code",
   "execution_count": 5,
   "metadata": {},
   "outputs": [
    {
     "name": "stdout",
     "output_type": "stream",
     "text": [
      "Requirement already satisfied: redis in /Users/rodz/Documents/projects/transformers/llm/venv/lib/python3.11/site-packages (5.2.0)\n",
      "\n",
      "\u001b[1m[\u001b[0m\u001b[34;49mnotice\u001b[0m\u001b[1;39;49m]\u001b[0m\u001b[39;49m A new release of pip is available: \u001b[0m\u001b[31;49m24.2\u001b[0m\u001b[39;49m -> \u001b[0m\u001b[32;49m24.3.1\u001b[0m\n",
      "\u001b[1m[\u001b[0m\u001b[34;49mnotice\u001b[0m\u001b[1;39;49m]\u001b[0m\u001b[39;49m To update, run: \u001b[0m\u001b[32;49mpip install --upgrade pip\u001b[0m\n",
      "Note: you may need to restart the kernel to use updated packages.\n"
     ]
    }
   ],
   "source": [
    "pip install redis"
   ]
  },
  {
   "cell_type": "code",
   "execution_count": 6,
   "metadata": {},
   "outputs": [],
   "source": [
    "from cache import RedisClient\n",
    "cache = RedisClient(config.redis.host, config.redis.port)"
   ]
  },
  {
   "cell_type": "markdown",
   "metadata": {},
   "source": [
    "## Extracting data from website\n"
   ]
  },
  {
   "cell_type": "code",
   "execution_count": 7,
   "metadata": {},
   "outputs": [
    {
     "name": "stdout",
     "output_type": "stream",
     "text": [
      "Requirement already satisfied: bs4 in /Users/rodz/Documents/projects/transformers/llm/venv/lib/python3.11/site-packages (0.0.2)\n",
      "Requirement already satisfied: beautifulsoup4 in /Users/rodz/Documents/projects/transformers/llm/venv/lib/python3.11/site-packages (from bs4) (4.12.3)\n",
      "Requirement already satisfied: soupsieve>1.2 in /Users/rodz/Documents/projects/transformers/llm/venv/lib/python3.11/site-packages (from beautifulsoup4->bs4) (2.6)\n",
      "\n",
      "\u001b[1m[\u001b[0m\u001b[34;49mnotice\u001b[0m\u001b[1;39;49m]\u001b[0m\u001b[39;49m A new release of pip is available: \u001b[0m\u001b[31;49m24.2\u001b[0m\u001b[39;49m -> \u001b[0m\u001b[32;49m24.3.1\u001b[0m\n",
      "\u001b[1m[\u001b[0m\u001b[34;49mnotice\u001b[0m\u001b[1;39;49m]\u001b[0m\u001b[39;49m To update, run: \u001b[0m\u001b[32;49mpip install --upgrade pip\u001b[0m\n",
      "Note: you may need to restart the kernel to use updated packages.\n"
     ]
    }
   ],
   "source": [
    "pip install bs4"
   ]
  },
  {
   "cell_type": "code",
   "execution_count": 8,
   "metadata": {},
   "outputs": [
    {
     "name": "stdout",
     "output_type": "stream",
     "text": [
      "The University of Buenos Aires (Spanish: Universidad de Buenos Aires, UBA) is a public research university in Buenos Aires, Argentina. It was established in 1821. It has educated 17 Argentine presidents, produced four of the country's five Nobel Prize laureates, and is responsible for approximately 40% of the country's research output.[12][13][14]\n",
      "\n",
      "The university's academic strength and regional leadership make it attractive to many international students, especially at the postgraduate level.[15][16] Just over 4 percent of undergraduates are foreigners, while 15 percent of postgraduate students come from abroad.[17] The Faculty of Economic Sciences has the highest rate of international postgraduate students at 30 percent, in line with its reputation as a \"top business school with significant international influence.\"[18][19]\n",
      "\n",
      "The University of Buenos Aires enrolls more than 328,000 students and is organized into 13 independent faculties.[20] It administers 6 hospitals, 16 museums, 13 scientific institutes, interdisciplinary commissions, 5 high schools, the Ricardo Rojas Cultural Center, the Cosmos Cinema, the University of Buenos Aires Symphony Orchestra, and Eudeba (Editorial Universitaria de Buenos Aires), the country's largest university press.\n",
      "\n",
      "Undergraduate programs at the University of Buenos Aires are free of charge for everyone, regardless of nationality.[21] Tuition from postgraduate programs helps fund the UBA's social mission to provide free university education for all.[22]\n",
      "\n",
      "Unlike other major cities in the Spanish Colonial Americas, Buenos Aires did not count with a university of its own during colonial times. The Viceroyalty of the Río de la Plata was relatively less important compared to other regions in Spanish South America, as most economic activity was based around the Andes range. Cultural and educational work in Buenos Aires was carried out by members of the Company of Jesus, and within the viceroyalty, Córdoba, Chuquisaca, and Santiago de Chile already counted with universities.[23]\n",
      "\n",
      "Following the May Revolution in 1810 and Argentina's Declaration of Independence in 1816, the push for a university in the capital of the newly independent nation strengthened. On 12 August 1821, the University of Buenos Aires was officially founded through a decree by Governor Martín Rodríguez. At the university's inaugural act, the cleric and statesman Antonio Sáenz was appointed as the first Rector.[24]\n",
      "\n",
      "During the university's early years of existence, the conflict between proponents of a laicist approach to the university's education and defendants of the traditional religious approach divided students and professors alike.[25] From the start, existing institutions were merged into the university in order to guarantee a high level of professionalism and organization: courses on mathematics, drawing, nautic sciences and natural history were transferred from the Consulate of Buenos Aires, the Military Medical Institute and the  Colegio de la Unión del Sud. In addition, law professors and courses were incorporated from the Academia de Jurisprudencia. This allowed the university to begin imparting medicine and law degrees from the moment of its foundation.[26]\n",
      "\n",
      "Free access to the university was suspended during the rule of caudillo Juan Manuel de Rosas, and the number of students decreased considerably. Budget cuts imposed by Rosas's government meant professors were no longer being paid, and the Department of Exact Sciences was nearly forced to close down. During this period, Francisco Javier Muñiz began making the first strides in the field of paleontology in Argentina, and became dean of the Faculty of Medicine. The situation normalized following the fall of Rosas at the Battle of Caseros in 1852. The new government of the State of Buenos Aires made bettering the university's conditions a priority; the political elites began seeing higher education as a necessary part of the country's upcoming consolidation and stabilization stages.[27]\n",
      "\n",
      "In 1863, the university established the Colegio Nacional de Buenos Aires; the Escuela Superior de Comercio followed in 1890.[28] In 1869, the first twelve Argentine engineers graduated from the University of Buenos Aires; they would henceforth be known as the \"Twelve Apostles\". Among them was Valentín Balbín, who would become president of the Sociedad Científica Argentina. In 1891, the department of natural sciences took the name of Facultad de Ciencias Exactas, Físicas y Naturales, and, in 1896, a special doctorate for chemistry was also established. By 1909, UBA had also created the faculties of Agronomy and Veterinary Sciences, as well as the Instituto de Altos Estudios Comerciales y de Ciencias Económicas.[29]\n",
      "\n",
      "The federalization of Buenos Aires in 1881 made the university dependent of the Argentine national state. During the Generation of '80, a period marked by the conservative elitism of Argentina's political class, the University of Buenos Aires made great progress in its scientific research, as the governing elites followed the ideals of positivism and scientificism popular in the late 19th century.[30] The 1880s were also marked by the university's first women graduates, Élida Passo (pharmacy) and Cecilia Grierson (medicine). These were, however, still exceptions to the rule in an otherwise male-dominated environment, as it fit the customs of Argentine society at the time.[31]\n",
      "\n",
      "The newfound prosperity experienced by Argentina at the turn of the 20th century allowed the children of (primarily European) immigrants, the new Argentine middle class, to attend university for the first time. In June 1918, a political and cultural movement impulsed by students at the National University of Córdoba caused a shockwave across Latin America: students were now protesting for further autonomy in universities, democratically elected authorities and co-governance, and open contests for teaching positions. The reform set up the freedom for universities to define their own curriculum and manage their own budget without interference from the central government. This has had a profound effect on academic life at the universities through the nationalization process that boasts academic freedom and independence throughout university life.\n",
      "\n",
      "The University Reform granted UBA (as well as all other public universities in Argentina) one of the key features of its institutional life, maintained up to this day: co-governed, democratically elected institutions and authorities.[32]\n",
      "\n",
      "In 1923, Ernesto de la Cárcova, a fine arts painter and academic professor, created the Extension Department of Fine Arts Education, known as the Superior Art School of the Nation in Spanish \"Escuela Nacional Superior de las Artes\", previously guilded in 1905 as the National Academy of Fine Arts in 1905,  taking its long origins from the 1875 founding of the National Society of the Stimulus of the Arts by painters Eduardo Schiaffino, Eduardo Sívori, and others. Since 1993, this Arts Extension Department became an independent institution known as IUNA Instituto Universitario Nacional de las Artes, then, in 2014 became the Collegiate University UNA Universidad Nacional de las Artes.\n",
      "\n",
      "The university's co-governance and autonomy were suspended during the presidency of Juan Domingo Perón, beginning in 1946. Perón's government also made access to public universities completely free of cost, through Decree 29.337, in November 1949. This represented the beginning of unrestricted access to culture, higher education and professionalization for the working class.[33] From 1935 to 1955, the number of students enrolled at UBA grew from 12,000 to 71,823.[34]\n",
      "\n",
      "The 1940s also saw the creation of the Faculty of Dentistry and the Faculty of Architecture and Urbanism, both through laws passed through the National Congress.[32]\n",
      "\n",
      "The 1955 Revolución Libertadora re-established the university's autonomy and co-governance, but also persecuted peronists and leftists within the university, leading to the expulsion and exile of hundreds of professors. Blacklists for university professors were established, and UBA was among the most affected institutions.[35] Further repression and persecution followed during the dictatorship of Juan Carlos Onganía, which intervened all universities and applied censorship to much of the universities' contents. On 29 July 1966, following a student-led occupation of five of UBA's faculties, state authorities dislodged the legitimately-elected authorities of said faculties and violently removed students, graduates and professors from the premises. The students were protesting the 1966 coup d'état, which had deposed constitutional president Arturo Illia. The event would be known as the Night of the Long Batons (Spanish: Noche de los Bastones Largos).\n",
      "\n",
      "The Night of the Long Batons ended with over 400 people detained, and several laboratories and libraries destroyed by state authorities. In the months that followed, hundreds of professors were fired or forced to leave their positions. Many went into exile: in total, it is estimated 301 professors, of which 215 were researchers, left Argentina following the events of 29 July 1966.[36]\n",
      "\n",
      "The return of Juan Domingo Perón to power through democratic elections in 1973 marked the beginning of a new age for the University of Buenos Aires. In 1974, a new law (Ley 20.654) mandated all national and public universities' right to academic autonomy and administrative and economy autarky.[37] In contradiction with the university autonomy law, Perón's wife and successor, Isabel Perón, appointed professed fascist Alberto Ottalagano as interventor of the university in 1974. Ottalagano launched a fierce campaign of persecution within the university, targeting students and professors suspected of being sympathizers of the Peronist Left. During Ottalagano's administration, up to 4000 professors were fired (including Nobel in Chemistry laureate Luis Federico Leloir), and four students were disappeared by the State.[38]\n",
      "\n",
      "An enhanced period of state terrorism followed the 1976 coup d'état, which brought to power the dictatorship of the National Reorganization Process. Professors and students were disappeared regardless of their political affiliations, as public universities were suspected of being \"breeding grounds\" for leftist sympathizers and subversives.[35] In addition, the university's research production and curricula were subject to systemic censorship, and hundreds upon thousands of books were burned (including up to 90,000 books published by Eudeba, UBA's own university press).[39][40] The dictatorship overran the principles of co-governance and established entrance exams, diminished entrance quotas, eradicated free education, and suspended entire degrees. All of the university's buildings and establishments were put under surveillance by state security forces.\n",
      "\n",
      "The university's autonomy and co-governance were re-established with the return of democracy in 1983. In 1985, the university established the Ciclo Básico Común (CBC; \"Common Basic Cycle\"), a fixed set of subjects that all aspiring UBA students must approve in order to become enrolled at the university. The CBC replaced the old entrance exams and sought to even the playing field for all students. That same year, the Faculty of Psychology was established, becoming the 12th faculty of the university.[32]\n",
      "\n",
      "In addition, in 1985 an agreement was signed between the university and the Federal Penitentiary System, creating what would later become the UBA XXII system. UBA XXII allows all people detained at federal prisons to enroll at UBA and study graduate courses whilst deprived of freedom.[41] In 1988, the Faculty of Social Sciences was established, becoming the youngest faculty at UBA.[42]\n",
      "\n",
      "The University of Buenos Aires is made up of thirteen self-governing faculties (Spanish: facultades), which impart a number of graduate and post-graduate courses (Spanish: carreras).[43] Although not a faculty, the university also manages the Ciclo Básico Común (CBC, \"Common Basic Cycle\"), a fixed set of subjects that all aspiring UBA students must pass in order to access any graduate course in the university, and that replaced entrance exams in 1985.\n",
      "\n",
      "UBA does not count with a single, unified campus. All of its facilities are spread out throughout the City of Buenos Aires, with some (especially branches of the CBC) based in the Greater Buenos Aires metro area. The Ciudad Universitaria (\"University City\") complex, located in the Núñez neighborhood along the banks of the Río de la Plata, is the closest thing to a centralized campus UBA has, housing the Faculty of Exact and Natural Sciences, the Faculty of Architecture, Design and Urbanism, a CBC branch, and various research institutes.[44]\n",
      "\n",
      "The faculties are:\n",
      "\n",
      "The Faculty of Economic Sciences is the largest of the UBA's constituent colleges, with over 36,000 students.[45] In recent years, the Faculty of Medicine has attracted the most new students, with 17,004 new enrollees in 2018 compared to the 7,584 new students the Faculty of Economic Sciences added that same year.[46]\n",
      "\n",
      "In addition to the thirteen faculties, the university administers 6 hospitals,[47] 16 museums,[48] 13 scientific institutes,[49] 6 interdisciplinary commissions,[50] 5 high schools (Colegio Nacional de Buenos Aires, Escuela Superior de Comercio Carlos Pellegrini, Instituto Libre de Segunda Enseñanza, Escuela Agropecuaria y Agroalimentaria, and Escuela de Educación Técnica de Villa Lugano),[51] the Centro Cultural Ricardo Rojas,[52] the Cosmos Cinema,[53] the University of Buenos Aires Symphony Orchestra,[54] and Eudeba (Editorial Universitaria de Buenos Aires), Argentina's largest university press.[55]\n",
      "\n",
      "Since the 1918 University Reform, the University of Buenos Aires has been ruled by the principle of co-governance. The university is headed by the Rector and the Consejo Superior (\"Superior Council\"). The Consejo Superior is made up of the rector, the deans of the thirteen faculties, and five representatives for each of the three constituent bodies in the university: professors, students and graduates, rounding up to 29 members. Deans and all other representatives of the Consejo Superior are elected every four years in democratic elections in which all professors, students and graduates of the university must partake.[56]\n",
      "\n",
      "Each of the thirteen faculties is autonomous and self-governed. The faculties have a similar governing system: each of them has a democratically elected dean and a Consejo Directivo (\"Directive Council\"). The faculties' directive councils are made up of eight representatives for the professors,  four representatives for the student body, and four representatives for the graduates. The Rector is elected every four years by the University Assembly (Asamblea Universitaria), made up of all members of the Consejo Superior and all members of the directive councils of all thirteen faculties. Since 2022, the Rector of the University of Buenos Aires has been Ricardo Gelpi.[57]\n",
      "\n",
      "In addition to the Consejo Superior and directive councils, students in all thirteen faculties count with student unions (\"Centro de Estudiantes\"), which are also democratically elected by students and are organized into the Federación Universitaria de Buenos Aires (FUBA).[58][59] The FUBA is part of the Argentine University Federation.\n",
      "\n",
      "In the 21st century, diverse political forces have vyed for power across all of these democratically elected institutions. Historically, rectors have belonged to the \"reformist\" camp, closely related to the Radical Civic Union and its student wing, Franja Morada.[60][61] Peronists and supporters of the Trotskyist left, organized into several different groups and organizations within each of the faculties, have also historically participated in the university's political life.[62]\n",
      "\n",
      "The QS World University Rankings ranked the University of Buenos Aires as 66th in the world in 2021.[63] THE's World Reputation Rankings 2020 placed it in the 176–200 range, whereas it is not listed in the performance-based THE World University Rankings.[64]\n",
      "\n",
      "Throughout its history, a sizeable number of UBA alumni have become notable in many varied fields, both academic and otherwise. Among them are four of Argentina's five Nobel Prize laureates, seventeen presidents of Argentina, and several other notable individuals in various fields, including sciences, business, literature, philosophy, law, medicine, the arts, architecture, and others. Many more are further associated to the university as faculty or through research at UBA institutes and dependencies.\n",
      "\n",
      "Seventeen Argentine presidents have attended the University of Buenos Aires: Carlos Pellegrini, Luis Sáenz Peña, José Evaristo Uriburu, Manuel Quintana, Roque Sáenz Peña, Victorino de la Plaza, Hipólito Yrigoyen, Marcelo T. de Alvear, Agustín P. Justo, Roberto Ortiz, Ramón Castillo, Arturo Frondizi, Arturo Illia, Raúl Alfonsín, Adolfo Rodríguez Saá, Eduardo Duhalde, and Alberto Fernández. All of them, save for Justo, an engineer, and Illia, a physician, were educated at the Faculty of Law. Manuel Quintana also served as rector of the university,[65] while Alberto Fernández taught courses on criminal law at the graduate level for many years before being elected to the presidency.[66]\n",
      "\n",
      "Many political leaders and relevant figures have also been educated at UBA, such as the Marxist revolutionary Ernesto \"Che\" Guevara, who enrolled at the Faculty of Medicine in 1948.[67] Several government ministers of Argentina have received their degrees at UBA, such as the foreign ministers José Luis Murature, Ángel Gallardo (also a Rector of UBA), Bonifacio del Carril, Miguel Ángel Zavala Ortiz, Juan Atilio Bramuglia, Susana Ruiz Cerutti, Guido di Tella, Adalberto Rodríguez Giavarini, Carlos Ruckauf, and Santiago Cafiero. Economy ministers of diverse political views and pertaining to different economic schools of thought have also earned their degrees at UBA; among them José Martínez de Hoz, Roberto Lavagna, Axel Kicillof, and Nicolás Dujovne.\n",
      "\n",
      "José Pedro Montero, the 27th president of Paraguay, was educated at UBA.[68]\n",
      "\n",
      "A number of relevant jurists have earned their law degrees at the UBA Faculty of Law. Carlos Saavedra Lamas, noted academic and jurist and Nobel Peace Prize laureate in 1936, earned his law degree at UBA and served as rector of the university from 1941 to 1943.[65] Luis Moreno Ocampo, Chief Prosecutor of the International Criminal Court, earned his degree in 1978.[69] International Criminal Tribunal for Rwanda judge Inés Mónica Weinberg de Roca is also a UBA alumna and former faculty, having taught courses on International Private Law since 2001.[70] Several ministers of the Supreme Court of Argentina have been UBA alumni as well, such as Enrique S. Petracchi, Carlos Fayt, Carmen Argibay, Elena Highton de Nolasco, and Carlos Rosenkrantz. Mariela Belski, Executive Director of Amnesty International Argentina is also a UBA alumni. Prominent legal philosopher Eugenio Bulygin earned his law degree and his PhD at the UBA Faculty of Law, where he also taught throughout his career. Teodosio César Brea, founder of the prominent Allende & Brea law firm, graduated UBA and taught courses at the Faculty of Law as well.[71] Valeria Vegh Weis, criminologist, criminal attorney, and university professor, was also educated at UBA.[72]\n",
      "\n",
      "The University of Buenos Aires has produced several relevant figures in the field of medicine. Two Nobel Prize in Physiology or Medicine laureates have been educated at UBA: Bernardo Houssay (1947) and César Milstein (1984). Houssay's work was carried out at the UBA-affiliated Instituto de Biología y Medicina Experimental, while Milstein received degree from the Faculty of Exact and Natural Sciences.\n",
      "\n",
      "Élida Passo (1867–1893), the first Argentine woman to be a pharmacist and South American woman university graduate, earned her UBA degree in 1885.[73] The first woman to receive a medical degree in Argentina, Cecilia Grierson, did so at the UBA Faculty of Medicine in 1889.[74] Other prominent physicians educated at UBA include public sanitarist Ramón Carrillo, Teresa Ratto, surgeon Juan Rosai, Luis Agote, dentist Ricardo Guardo (credited as the founder of the UBA Faculty of Dentistry), geneticist Primarosa Chieri, and pharmacologist Augusto Claudio Cuello, professor at McGill University in Canada.\n",
      "\n",
      "Prominent businesspeople educated at the University of Buenos Aires include oil tycoon Alejandro Bulgheroni,[75] and his brother, Bridas Corporation CEO Carlos Bulgheroni; agri-business executive Andrea Grobocopatel,[76] and sugar magnate Robustiano Patrón Costas. The university has also produced many successful startup founders. Unicorn startups founded by the University of Buenos Aires's alumni raised the most money in venture capital funding in the Latin American region in 2020.[77]\n",
      "\n",
      "Engineer and manufacturer Horacio Anasagasti, who created the first Argentine-produced car (the Anasagasti), graduated from the UBA Faculty of Engineering aged 23 in 1902.[78]\n",
      "\n",
      "A number of prominent scientists in diverse fields have been educated at the University of Buenos Aires; many of them have also taught classes and have conducted research at UBA. Luis Federico Leloir, Argentina's first Nobel Prize in Chemistry laureate for his discovery of the metabolic pathways in lactose, earned his degree at the Faculty of Medicine in 1932, and attended classes at the Faculty of Exact and Natural Sciences early into his career as well. In the field of chemistry, UBA also educated Silvia Braslavsky, who worked extensively in the domain of photobiology and was senior research scientist and professor at the Max Planck Institute for Radiation Chemistry.[79]\n",
      "\n",
      "UBA has also produced a number of prominent biologists, especially in the field of Antarctic marine biology. Among these are Irene Schloss and Viviana Alder. Patricia Ortúzar, geographist and vice chair of the Antarctic Committee for Environmental Protection, also received her degree from the University of Buenos Aires. Neuroscientist, Turing Fellow and Cambridge University lecturer Tristan Bekinschtein is a FCEN UBA graduate.[80]\n",
      "\n",
      "Mathematicians educated at UBA include Graciela Boente, researcher of robust statistics;[81] Alberto Calderón, co-creator of the \"Chicago School of (hard) Analysis\";[82] Luis Caffarelli, whose work focuses on partial differential equations;[83] Alicia Dickenstein, known for her work on toric geometry, tropical geometry, and their applications to biological systems;[84] Miguel Walsh, known for his work in number theory and ergodic theory.[85]\n",
      "\n",
      "Other prominent UBA scientists include pioneering computer scientist Cecilia Berdichevsky,[86] ecologist Enrique Chaneton, molecular biologist Alberto Kornblihtt,[87] physicist Beatriz Susana Cougnet de Roederer,[88] biologist María Fernanda Ceriani,[89] solar physicist and former CONICET president, Marta Graciela Rovira,[90] and Emma Pérez Ferreira, first female president of Argentina's National Atomic Energy Commission.[91]\n",
      "\n",
      "UBA has produced a number of important thinkers and researchers in the fields of social science and philosophy. Raúl Prebisch, creator of the Prebisch–Singer hypothesis and a major proponent of dependency theory, studied economy at the Faculty of Economic Sciences.[92] Social anthropologist Esther Hermitte, credited with introducing structural-functionalist anthropology in Argentina, was a Faculty of Philosophy and Letters alumna, as was post-marxist theorist Ernesto Laclau.[93]\n",
      "\n",
      "Political scientist Guillermo O'Donnell studied law at UBA and later pursued a political science degree in the United States; today, he is credited as a major influence in Argentine political science.[94] Sociologist and political activist Pilar Calveiro began her studies at the Faculty of Philosophy and Letters, before the creation of the Faculty of Social Sciences in 1988.[95] Former British spy Richard Tomlinson studied political science at UBA during his stay in Argentina.[96]\n",
      "\n",
      "In the field of psychoanalysis, Faculty of Psychology alumna Alicia Beatriz Casullo is known for being the founder and first head of the Sociedad Argentina de Psicoanálisis.\n",
      "\n",
      "The University of Buenos Aires has produced a number of prominent architects, renown both nationwide and internationally. Clorindo Testa, pioneer of the brutalist movement in Argentina, earned his degree at the Faculty of Architecture, Design and Urbanism (FADU) in 1948.[97] The rationalist Alberto Prebisch earned his degree at the School of Architecture (predecessor of FADU) in 1921; he would later become dean of FADU in 1955.[98] New York-based urban design theorist Diana Agrest graduated from FADU in 1967.[99] Other known UBA-educated architects include Claudio Vekstein, organic architecture proponent Patricio Pouchulu, and the Uruguayan Rafael Viñoly, who designed the Cero+infinito building at the Ciudad Universitaria complex, finished in 2022.[100]\n",
      "\n",
      "Writers associated with UBA include the novelist and short story writer Julio Cortázar, one of the founders of the Latin American Boom. Cortázar began a philosophy degree aged 18, but did not complete it due to financial woes.[101] The poet and critic Jorge Fondebrider studied literature at the Faculty of Philosophy and Letters, and later served as director of the UBA-owned Centro Cultural Ricardo Rojas.[102] The Manipulated Man author Esther Vilar,[103] and the poet and translator Alejandra Pizarnik,[104] were also educated at UBA.\n",
      "\n",
      "After receiving a degree in Natural Sciences from the university, Alicia Jurado wrote biographies of William Henry Hudson, Cunninghame Graham, and Jorge Luis Borges. The short story writer Samanta Schweblin studied film design at UBA.[105] Elena Presser also began her studies at the University of Buenos Aires,[106] as did film director Juan Cabral.[107]\n",
      "\n",
      "The university operates its own radio station, Radio Universidad de Buenos Aires, broadcast on the FM 87.9 MHz frequency. Its content is mostly oriented toward academic and social topics. Launched on 20 December 2005 after being authorized by AFSCA, its motto is El saber está en el aire (\"Knowledge is in the air\").[108]\n",
      "\n",
      "34°35′59″S 58°22′23″W﻿ / ﻿34.59972°S 58.37306°W﻿ / -34.59972; -58.37306\n"
     ]
    }
   ],
   "source": [
    "from data_fetch import extract_text_from_url"
   ]
  },
  {
   "cell_type": "code",
   "execution_count": 9,
   "metadata": {},
   "outputs": [],
   "source": [
    "extracted_text = extract_text_from_url(\"https://lse.posgrados.fi.uba.ar/consultas/inscripciones\")"
   ]
  },
  {
   "cell_type": "code",
   "execution_count": 10,
   "metadata": {},
   "outputs": [
    {
     "data": {
      "text/plain": [
       "'A continuación se presenta la información detallada de las Especialidades, Diplomaturas y Maestrías de cada una de las temáticas presentadas por el Laboratorio.\\nPara consultas e inscripción escribir un correo a inscripcion.lse@fi.uba.ar\\xa0\\nDiplomatura de Extensión en Inteligencia Artificial Aplicada: \\xa0-Duración: 6 meses,en base 6 horas de clase por semana.-Dirigida a: Personas que no cuenten con título universitario y quieran iniciar en las temáticas de la IA.\\nDiplomatura Universitaria Superior en Inteligencia Artificial Aplicada: -Duración: 6 meses, en base 6 horas de clase por semana.-Dirigido a: Personas con título universitario o título técnico superior\\nCarrera de Especialización en Inteligencia Artificial: -Duración: 1 año, en base de 9 horas semanales de clases y 9 horas de dedicación por fuera de clases.-Dirigido a: Personas con Título Universitario con una duración mayor o igual a 4 años. \\nMaestría en Inteligencia Artificial:-Se obtiene al completar la Carrera de Especialización en Inteligencia Artificial y luego un segundo año con los cursos que se detallan a continuación y además presentar el Trabajo Final de la Carrera de Maestría, como se explica acá.-Duración: 2 años, en base de 9 horas semanales de clases y 9 horas de dedicación por fuera de clases.-Dirigido a: Personas con Título Universitario con una duración mayor o igual a 4 años y que\\xa0 hayan completado la Carrera de Especialización en Inteligencia Artificial.\\n\\xa0Maestría en Computación de Borde: Se obtiene al completar la Carrera de Especialización en Internet de las Cosas y la Carrera de Especialización en Inteligencia Artificial en el orden en que el alumno prefiera.-Duración: 2 años, en base de 9 horas semanales de clases y 9 horas de dedicación por fuera de clases.-Dirigido a: Personas con Título Universitario con una duración mayor o igual a 4 años y que hayan completado la Carrera de Especialización en Internet de las Cosas o la Carrera de Especialización en Inteligencia Artificial \\nMaestría en Inteligencia Artificial Embebida:Se obtiene al completar la Carrera de Especialización en Inteligencia Artificial y la Carrera de Especialización en Sistemas Embebidos en el orden en que el alumno prefiera.-Duración: 2 años, en base de 9 horas semanales de clases y 9 horas de dedicación por fuera de clases.-Dirigido a: Personas con Título Universitario con una duración mayor o igual a 4 años y que hayan completado la Carrera de Especialización en Inteligencia Artificial o la Carrera de Especialización en Sistemas Embebidos.\\nDiplomatura de Extensión en Sistemas Embebidos - Nivel 1-Duración: 6 meses,en base 6 horas de clase por semana.-Dirigida a: Personas que no cuenten con título universitario y quieran iniciar en las temáticas de SE.\\nDiplomatura Universitaria Superior en Sistemas Embebidos - Nivel 1 -Duración: 6 meses,en base 6 horas de clase por semana.-Dirigida a: Personas con título universitario o título técnico superior.\\nDiplomatura de Extensión en Sistemas Embebidos - Nivel 2 -Duración: 6 meses,en base 6 horas de clase por semana.-Dirigida a: Personas que no cuenten con título universitario y quieran iniciar en las temáticas de SE.\\nDiplomatura Universitaria Superior en Sistemas Embebidos - Nivel 2-Duración: 6 meses,en base 6 horas de clase por semana.-Dirigida a: Personas con título universitario o título técnico superior.\\nCarrera de Especialización en Sistemas Embebidos:-Duración: 1 año, en base de 9 horas semanales de clases y 9 horas de dedicación por fuera de clases.-Dirigido a: Personas con Título Universitario con una duración mayor o igual a 4 años.\\nMaestría en Procesamiento Digital: Se obtiene al completar la Carrera de Especialización en Sistemas Embebidos y luego un segundo año con los cursos que se detallan a continuación y además presentar el Trabajo Final de la Carrera de Maestría, como se explica acá.-Duración: 2 años, en base de 9 horas semanales de clases y 9 horas de dedicación por fuera de clases.-Dirigido a: Personas con Título Universitario con una duración mayor o igual a 4 años y que\\xa0 hayan completado la Carrera de Especialización en Sistemas Embebidos.\\nMaestría en Inteligencia Artificial Embebida:Se obtiene al completar la Carrera de Especialización en Inteligencia Artificial y la Carrera de Especialización en Sistemas Embebidos en el orden en que el alumno prefiera.-Duración: 2 años, en base de 9 horas semanales de clases y 9 horas de dedicación por fuera de clases.-Dirigido a: Personas con Título Universitario con una duración mayor o igual a 4 años y que hayan completado la Carrera de Especialización en Inteligencia Artificial o la Carrera de Especialización en Sistemas Embebido\\nCarrera de Especialización en Internet de las Cosas: -Duración: 1 año, en base de 9 horas semanales de clases y 9 horas de dedicación por fuera de clases.-Dirigido a: Personas con Título Universitario con una duración mayor o igual a 4 años.\\nMaestría en Internet de las Cosas: Se obtiene al completar la Carrera de Especialización en Internet de las Cosas y la Carrera de Especialización en Sistemas Embebidos en el orden en que el alumno prefiera.-Duración: 2 años, en base de 9 horas semanales de clases y 9 horas de dedicación por fuera de clases.-Dirigido a: Personas con Título Universitario con una duración mayor o igual a 4 años y que hayan completado la Carrera de Especialización en Internet de las Cosas o la Carrera de Especialización en Sistemas Embebidos.\\nMaestría en Computación de Borde: Se obtiene al completar la Carrera de Especialización en Internet de las Cosas y la Carrera de Especialización en Inteligencia Artificial en el orden en que el alumno prefiera.-Duración: 2 años, en base de 9 horas semanales de clases y 9 horas de dedicación por fuera de clases.-Dirigido a: Personas con Título Universitario con una duración mayor o igual a 4 años y que hayan completado la Carrera de Especialización en Internet de las Cosas o la Carrera de Especialización en Inteligencia Artificial'"
      ]
     },
     "execution_count": 10,
     "metadata": {},
     "output_type": "execute_result"
    }
   ],
   "source": [
    "extracted_text"
   ]
  },
  {
   "cell_type": "markdown",
   "metadata": {},
   "source": [
    "## Calling Mistral-7B-Instruct\n",
    "from [preloaded](https://huggingface.co/mistralai/Mistral-7B-Instruct-v0.3) huggingface model"
   ]
  },
  {
   "cell_type": "code",
   "execution_count": 11,
   "metadata": {},
   "outputs": [],
   "source": [
    "# Function to handle chat completions\n",
    "def chat_completion(user_input, injected_text = None):\n",
    "\n",
    "    if injected_text is not None:\n",
    "        cache.add_to_conversation(\"user\", injected_text)\n",
    "\n",
    "    cache.add_to_conversation(\"user\", user_input)\n",
    "    # Add the user's message to the conversation history\n",
    "    conversation_history = cache.get_conversation_history()\n",
    "\n",
    "    # Generate the assistant's response in stream mode\n",
    "    completion = client.chat.completions.create(\n",
    "        stream=True,\n",
    "        model=\"mistral\",\n",
    "        messages=conversation_history,\n",
    "        max_tokens=256,\n",
    "        temperature=0.8,\n",
    "    )\n",
    "\n",
    "    # Collect and accumulate the response from the generator\n",
    "    full_response = \"\"\n",
    "    for chunk in completion:\n",
    "        if chunk.choices[0].delta.content is not None:\n",
    "            full_response += chunk.choices[0].delta.content\n",
    "\n",
    "    # Add the complete assistant's response to conversation history\n",
    "    #conversation_history.append({\"role\": \"assistant\", \"content\": full_response})\n",
    "    cache.add_to_conversation(\"assistant\", full_response)\n",
    "    # Return the assistant's response for display\n",
    "    return full_response\n",
    "\n",
    "# Function to format and display the conversation history\n",
    "def format_conversation(conversation_history):\n",
    "    return \"\\n\".join(\n",
    "        f\"{msg['role'].capitalize()}: {msg['content']}\"\n",
    "        for msg in conversation_history if 'content' in msg\n",
    "    )\n",
    "\n",
    "def process_input(user_input, url=None):\n",
    "    # Extract content from URL if provided, otherwise proceed with the conversation\n",
    "    injected_text = extract_text_from_url(url) if url else None\n",
    "    \n",
    "    # Generate a response with optional injected text\n",
    "    return chat_completion(user_input, injected_text)"
   ]
  },
  {
   "cell_type": "markdown",
   "metadata": {},
   "source": [
    "## Gradio"
   ]
  },
  {
   "cell_type": "code",
   "execution_count": 12,
   "metadata": {},
   "outputs": [
    {
     "name": "stdout",
     "output_type": "stream",
     "text": [
      "Requirement already satisfied: gradio in /Users/rodz/Documents/projects/transformers/llm/venv/lib/python3.11/site-packages (5.5.0)\n",
      "Requirement already satisfied: aiofiles<24.0,>=22.0 in /Users/rodz/Documents/projects/transformers/llm/venv/lib/python3.11/site-packages (from gradio) (23.2.1)\n",
      "Requirement already satisfied: anyio<5.0,>=3.0 in /Users/rodz/Documents/projects/transformers/llm/venv/lib/python3.11/site-packages (from gradio) (4.6.2.post1)\n",
      "Requirement already satisfied: fastapi<1.0,>=0.115.2 in /Users/rodz/Documents/projects/transformers/llm/venv/lib/python3.11/site-packages (from gradio) (0.115.5)\n",
      "Requirement already satisfied: ffmpy in /Users/rodz/Documents/projects/transformers/llm/venv/lib/python3.11/site-packages (from gradio) (0.4.0)\n",
      "Requirement already satisfied: gradio-client==1.4.2 in /Users/rodz/Documents/projects/transformers/llm/venv/lib/python3.11/site-packages (from gradio) (1.4.2)\n",
      "Requirement already satisfied: httpx>=0.24.1 in /Users/rodz/Documents/projects/transformers/llm/venv/lib/python3.11/site-packages (from gradio) (0.27.2)\n",
      "Requirement already satisfied: huggingface-hub>=0.25.1 in /Users/rodz/Documents/projects/transformers/llm/venv/lib/python3.11/site-packages (from gradio) (0.26.2)\n",
      "Requirement already satisfied: jinja2<4.0 in /Users/rodz/Documents/projects/transformers/llm/venv/lib/python3.11/site-packages (from gradio) (3.1.4)\n",
      "Requirement already satisfied: markupsafe~=2.0 in /Users/rodz/Documents/projects/transformers/llm/venv/lib/python3.11/site-packages (from gradio) (2.1.5)\n",
      "Requirement already satisfied: numpy<3.0,>=1.0 in /Users/rodz/Documents/projects/transformers/llm/venv/lib/python3.11/site-packages (from gradio) (2.1.1)\n",
      "Requirement already satisfied: orjson~=3.0 in /Users/rodz/Documents/projects/transformers/llm/venv/lib/python3.11/site-packages (from gradio) (3.10.11)\n",
      "Requirement already satisfied: packaging in /Users/rodz/Documents/projects/transformers/llm/venv/lib/python3.11/site-packages (from gradio) (24.1)\n",
      "Requirement already satisfied: pandas<3.0,>=1.0 in /Users/rodz/Documents/projects/transformers/llm/venv/lib/python3.11/site-packages (from gradio) (2.2.3)\n",
      "Requirement already satisfied: pillow<12.0,>=8.0 in /Users/rodz/Documents/projects/transformers/llm/venv/lib/python3.11/site-packages (from gradio) (10.4.0)\n",
      "Requirement already satisfied: pydantic>=2.0 in /Users/rodz/Documents/projects/transformers/llm/venv/lib/python3.11/site-packages (from gradio) (2.9.2)\n",
      "Requirement already satisfied: pydub in /Users/rodz/Documents/projects/transformers/llm/venv/lib/python3.11/site-packages (from gradio) (0.25.1)\n",
      "Requirement already satisfied: python-multipart==0.0.12 in /Users/rodz/Documents/projects/transformers/llm/venv/lib/python3.11/site-packages (from gradio) (0.0.12)\n",
      "Requirement already satisfied: pyyaml<7.0,>=5.0 in /Users/rodz/Documents/projects/transformers/llm/venv/lib/python3.11/site-packages (from gradio) (6.0.2)\n",
      "Requirement already satisfied: ruff>=0.2.2 in /Users/rodz/Documents/projects/transformers/llm/venv/lib/python3.11/site-packages (from gradio) (0.7.4)\n",
      "Requirement already satisfied: safehttpx<1.0,>=0.1.1 in /Users/rodz/Documents/projects/transformers/llm/venv/lib/python3.11/site-packages (from gradio) (0.1.1)\n",
      "Requirement already satisfied: semantic-version~=2.0 in /Users/rodz/Documents/projects/transformers/llm/venv/lib/python3.11/site-packages (from gradio) (2.10.0)\n",
      "Requirement already satisfied: starlette<1.0,>=0.40.0 in /Users/rodz/Documents/projects/transformers/llm/venv/lib/python3.11/site-packages (from gradio) (0.41.2)\n",
      "Requirement already satisfied: tomlkit==0.12.0 in /Users/rodz/Documents/projects/transformers/llm/venv/lib/python3.11/site-packages (from gradio) (0.12.0)\n",
      "Requirement already satisfied: typer<1.0,>=0.12 in /Users/rodz/Documents/projects/transformers/llm/venv/lib/python3.11/site-packages (from gradio) (0.13.0)\n",
      "Requirement already satisfied: typing-extensions~=4.0 in /Users/rodz/Documents/projects/transformers/llm/venv/lib/python3.11/site-packages (from gradio) (4.12.2)\n",
      "Requirement already satisfied: uvicorn>=0.14.0 in /Users/rodz/Documents/projects/transformers/llm/venv/lib/python3.11/site-packages (from gradio) (0.32.0)\n",
      "Requirement already satisfied: fsspec in /Users/rodz/Documents/projects/transformers/llm/venv/lib/python3.11/site-packages (from gradio-client==1.4.2->gradio) (2024.10.0)\n",
      "Requirement already satisfied: websockets<13.0,>=10.0 in /Users/rodz/Documents/projects/transformers/llm/venv/lib/python3.11/site-packages (from gradio-client==1.4.2->gradio) (12.0)\n",
      "Requirement already satisfied: idna>=2.8 in /Users/rodz/Documents/projects/transformers/llm/venv/lib/python3.11/site-packages (from anyio<5.0,>=3.0->gradio) (3.10)\n",
      "Requirement already satisfied: sniffio>=1.1 in /Users/rodz/Documents/projects/transformers/llm/venv/lib/python3.11/site-packages (from anyio<5.0,>=3.0->gradio) (1.3.1)\n",
      "Requirement already satisfied: certifi in /Users/rodz/Documents/projects/transformers/llm/venv/lib/python3.11/site-packages (from httpx>=0.24.1->gradio) (2024.8.30)\n",
      "Requirement already satisfied: httpcore==1.* in /Users/rodz/Documents/projects/transformers/llm/venv/lib/python3.11/site-packages (from httpx>=0.24.1->gradio) (1.0.7)\n",
      "Requirement already satisfied: h11<0.15,>=0.13 in /Users/rodz/Documents/projects/transformers/llm/venv/lib/python3.11/site-packages (from httpcore==1.*->httpx>=0.24.1->gradio) (0.14.0)\n",
      "Requirement already satisfied: filelock in /Users/rodz/Documents/projects/transformers/llm/venv/lib/python3.11/site-packages (from huggingface-hub>=0.25.1->gradio) (3.16.1)\n",
      "Requirement already satisfied: requests in /Users/rodz/Documents/projects/transformers/llm/venv/lib/python3.11/site-packages (from huggingface-hub>=0.25.1->gradio) (2.32.3)\n",
      "Requirement already satisfied: tqdm>=4.42.1 in /Users/rodz/Documents/projects/transformers/llm/venv/lib/python3.11/site-packages (from huggingface-hub>=0.25.1->gradio) (4.67.0)\n",
      "Requirement already satisfied: python-dateutil>=2.8.2 in /Users/rodz/Documents/projects/transformers/llm/venv/lib/python3.11/site-packages (from pandas<3.0,>=1.0->gradio) (2.9.0.post0)\n",
      "Requirement already satisfied: pytz>=2020.1 in /Users/rodz/Documents/projects/transformers/llm/venv/lib/python3.11/site-packages (from pandas<3.0,>=1.0->gradio) (2024.2)\n",
      "Requirement already satisfied: tzdata>=2022.7 in /Users/rodz/Documents/projects/transformers/llm/venv/lib/python3.11/site-packages (from pandas<3.0,>=1.0->gradio) (2024.2)\n",
      "Requirement already satisfied: annotated-types>=0.6.0 in /Users/rodz/Documents/projects/transformers/llm/venv/lib/python3.11/site-packages (from pydantic>=2.0->gradio) (0.7.0)\n",
      "Requirement already satisfied: pydantic-core==2.23.4 in /Users/rodz/Documents/projects/transformers/llm/venv/lib/python3.11/site-packages (from pydantic>=2.0->gradio) (2.23.4)\n",
      "Requirement already satisfied: click>=8.0.0 in /Users/rodz/Documents/projects/transformers/llm/venv/lib/python3.11/site-packages (from typer<1.0,>=0.12->gradio) (8.1.7)\n",
      "Requirement already satisfied: shellingham>=1.3.0 in /Users/rodz/Documents/projects/transformers/llm/venv/lib/python3.11/site-packages (from typer<1.0,>=0.12->gradio) (1.5.4)\n",
      "Requirement already satisfied: rich>=10.11.0 in /Users/rodz/Documents/projects/transformers/llm/venv/lib/python3.11/site-packages (from typer<1.0,>=0.12->gradio) (13.9.4)\n",
      "Requirement already satisfied: six>=1.5 in /Users/rodz/Documents/projects/transformers/llm/venv/lib/python3.11/site-packages (from python-dateutil>=2.8.2->pandas<3.0,>=1.0->gradio) (1.16.0)\n",
      "Requirement already satisfied: markdown-it-py>=2.2.0 in /Users/rodz/Documents/projects/transformers/llm/venv/lib/python3.11/site-packages (from rich>=10.11.0->typer<1.0,>=0.12->gradio) (3.0.0)\n",
      "Requirement already satisfied: pygments<3.0.0,>=2.13.0 in /Users/rodz/Documents/projects/transformers/llm/venv/lib/python3.11/site-packages (from rich>=10.11.0->typer<1.0,>=0.12->gradio) (2.18.0)\n",
      "Requirement already satisfied: charset-normalizer<4,>=2 in /Users/rodz/Documents/projects/transformers/llm/venv/lib/python3.11/site-packages (from requests->huggingface-hub>=0.25.1->gradio) (3.4.0)\n",
      "Requirement already satisfied: urllib3<3,>=1.21.1 in /Users/rodz/Documents/projects/transformers/llm/venv/lib/python3.11/site-packages (from requests->huggingface-hub>=0.25.1->gradio) (2.2.3)\n",
      "Requirement already satisfied: mdurl~=0.1 in /Users/rodz/Documents/projects/transformers/llm/venv/lib/python3.11/site-packages (from markdown-it-py>=2.2.0->rich>=10.11.0->typer<1.0,>=0.12->gradio) (0.1.2)\n",
      "\n",
      "\u001b[1m[\u001b[0m\u001b[34;49mnotice\u001b[0m\u001b[1;39;49m]\u001b[0m\u001b[39;49m A new release of pip is available: \u001b[0m\u001b[31;49m24.2\u001b[0m\u001b[39;49m -> \u001b[0m\u001b[32;49m24.3.1\u001b[0m\n",
      "\u001b[1m[\u001b[0m\u001b[34;49mnotice\u001b[0m\u001b[1;39;49m]\u001b[0m\u001b[39;49m To update, run: \u001b[0m\u001b[32;49mpip install --upgrade pip\u001b[0m\n",
      "Note: you may need to restart the kernel to use updated packages.\n"
     ]
    }
   ],
   "source": [
    "pip install gradio"
   ]
  },
  {
   "cell_type": "code",
   "execution_count": 13,
   "metadata": {},
   "outputs": [
    {
     "name": "stderr",
     "output_type": "stream",
     "text": [
      "/Users/rodz/Documents/projects/transformers/llm/venv/lib/python3.11/site-packages/tqdm/auto.py:21: TqdmWarning: IProgress not found. Please update jupyter and ipywidgets. See https://ipywidgets.readthedocs.io/en/stable/user_install.html\n",
      "  from .autonotebook import tqdm as notebook_tqdm\n"
     ]
    },
    {
     "name": "stdout",
     "output_type": "stream",
     "text": [
      "* Running on local URL:  http://127.0.0.1:7861\n",
      "\n",
      "To create a public link, set `share=True` in `launch()`.\n"
     ]
    },
    {
     "data": {
      "text/html": [
       "<div><iframe src=\"http://127.0.0.1:7861/\" width=\"100%\" height=\"500\" allow=\"autoplay; camera; microphone; clipboard-read; clipboard-write;\" frameborder=\"0\" allowfullscreen></iframe></div>"
      ],
      "text/plain": [
       "<IPython.core.display.HTML object>"
      ]
     },
     "metadata": {},
     "output_type": "display_data"
    },
    {
     "data": {
      "text/plain": []
     },
     "execution_count": 13,
     "metadata": {},
     "output_type": "execute_result"
    }
   ],
   "source": [
    "import gradio as gr\n",
    "\n",
    "def on_submit(user_message):\n",
    "    # This function calls the chat_completion function and updates the output\n",
    "    return chat_completion(user_message)\n",
    "\n",
    "with gr.Blocks() as demo:\n",
    "    gr.Markdown(\"### Chat with Mistral AI\")\n",
    "    user_input = gr.Textbox(label=\"Ask a question\", placeholder=\"Type your message here...\")\n",
    "    conversation_output = gr.Textbox(label=\"Conversation History\", lines=10, interactive=False)\n",
    "\n",
    "    # Link inputs and outputs\n",
    "    user_input.submit(process_input, [\n",
    "        user_input,\n",
    "        gr.Textbox(label=\"URL to inject text (optional)\")\n",
    "                                      ], conversation_output)\n",
    "\n",
    "# Launch the app\n",
    "demo.launch()"
   ]
  }
 ],
 "metadata": {
  "kernelspec": {
   "display_name": "venv",
   "language": "python",
   "name": "python3"
  },
  "language_info": {
   "codemirror_mode": {
    "name": "ipython",
    "version": 3
   },
   "file_extension": ".py",
   "mimetype": "text/x-python",
   "name": "python",
   "nbconvert_exporter": "python",
   "pygments_lexer": "ipython3",
   "version": "3.11.10"
  }
 },
 "nbformat": 4,
 "nbformat_minor": 2
}
